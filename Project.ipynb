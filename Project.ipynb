{
 "cells": [
  {
   "cell_type": "markdown",
   "metadata": {},
   "source": [
    "# Project on \"powerproduction\" dataset\n",
    "### Loading the file\n",
    "First import python packages. Next read in the csv which is saved in the same sub directory as the Jupyter Notebok file allowing the file path to be straight forward. Create the dfpower dataframe from the csv. "
   ]
  },
  {
   "cell_type": "code",
   "execution_count": 1,
   "metadata": {},
   "outputs": [],
   "source": [
    "# Import packages required for computation and visualisation. Also matplotlib magic command\n",
    "import numpy as np\n",
    "import pandas as pd\n",
    "import matplotlib.pyplot as plt\n",
    "import seaborn as sns\n",
    "%matplotlib inline\n",
    "\n",
    "dfpower = pd.read_csv('powerproduction.csv')"
   ]
  },
  {
   "cell_type": "markdown",
   "metadata": {},
   "source": [
    "#### Checking the data\n",
    "Check the file loaded ok using df.head( ) to view the first 5 (default) rows and df.tail( ) to view the last 5 rows. The amount of rows shown can be shown by inserting a number inside the brackets."
   ]
  },
  {
   "cell_type": "code",
   "execution_count": 2,
   "metadata": {},
   "outputs": [
    {
     "data": {
      "text/html": [
       "<div>\n",
       "<style scoped>\n",
       "    .dataframe tbody tr th:only-of-type {\n",
       "        vertical-align: middle;\n",
       "    }\n",
       "\n",
       "    .dataframe tbody tr th {\n",
       "        vertical-align: top;\n",
       "    }\n",
       "\n",
       "    .dataframe thead th {\n",
       "        text-align: right;\n",
       "    }\n",
       "</style>\n",
       "<table border=\"1\" class=\"dataframe\">\n",
       "  <thead>\n",
       "    <tr style=\"text-align: right;\">\n",
       "      <th></th>\n",
       "      <th>speed</th>\n",
       "      <th>power</th>\n",
       "    </tr>\n",
       "  </thead>\n",
       "  <tbody>\n",
       "    <tr>\n",
       "      <th>0</th>\n",
       "      <td>0.000</td>\n",
       "      <td>0.0</td>\n",
       "    </tr>\n",
       "    <tr>\n",
       "      <th>1</th>\n",
       "      <td>0.125</td>\n",
       "      <td>0.0</td>\n",
       "    </tr>\n",
       "    <tr>\n",
       "      <th>2</th>\n",
       "      <td>0.150</td>\n",
       "      <td>0.0</td>\n",
       "    </tr>\n",
       "    <tr>\n",
       "      <th>3</th>\n",
       "      <td>0.225</td>\n",
       "      <td>0.0</td>\n",
       "    </tr>\n",
       "    <tr>\n",
       "      <th>4</th>\n",
       "      <td>0.275</td>\n",
       "      <td>0.0</td>\n",
       "    </tr>\n",
       "  </tbody>\n",
       "</table>\n",
       "</div>"
      ],
      "text/plain": [
       "   speed  power\n",
       "0  0.000    0.0\n",
       "1  0.125    0.0\n",
       "2  0.150    0.0\n",
       "3  0.225    0.0\n",
       "4  0.275    0.0"
      ]
     },
     "execution_count": 2,
     "metadata": {},
     "output_type": "execute_result"
    }
   ],
   "source": [
    "dfpower.head()"
   ]
  },
  {
   "cell_type": "code",
   "execution_count": 3,
   "metadata": {},
   "outputs": [
    {
     "data": {
      "text/html": [
       "<div>\n",
       "<style scoped>\n",
       "    .dataframe tbody tr th:only-of-type {\n",
       "        vertical-align: middle;\n",
       "    }\n",
       "\n",
       "    .dataframe tbody tr th {\n",
       "        vertical-align: top;\n",
       "    }\n",
       "\n",
       "    .dataframe thead th {\n",
       "        text-align: right;\n",
       "    }\n",
       "</style>\n",
       "<table border=\"1\" class=\"dataframe\">\n",
       "  <thead>\n",
       "    <tr style=\"text-align: right;\">\n",
       "      <th></th>\n",
       "      <th>speed</th>\n",
       "      <th>power</th>\n",
       "    </tr>\n",
       "  </thead>\n",
       "  <tbody>\n",
       "    <tr>\n",
       "      <th>495</th>\n",
       "      <td>24.775</td>\n",
       "      <td>0.0</td>\n",
       "    </tr>\n",
       "    <tr>\n",
       "      <th>496</th>\n",
       "      <td>24.850</td>\n",
       "      <td>0.0</td>\n",
       "    </tr>\n",
       "    <tr>\n",
       "      <th>497</th>\n",
       "      <td>24.875</td>\n",
       "      <td>0.0</td>\n",
       "    </tr>\n",
       "    <tr>\n",
       "      <th>498</th>\n",
       "      <td>24.950</td>\n",
       "      <td>0.0</td>\n",
       "    </tr>\n",
       "    <tr>\n",
       "      <th>499</th>\n",
       "      <td>25.000</td>\n",
       "      <td>0.0</td>\n",
       "    </tr>\n",
       "  </tbody>\n",
       "</table>\n",
       "</div>"
      ],
      "text/plain": [
       "      speed  power\n",
       "495  24.775    0.0\n",
       "496  24.850    0.0\n",
       "497  24.875    0.0\n",
       "498  24.950    0.0\n",
       "499  25.000    0.0"
      ]
     },
     "execution_count": 3,
     "metadata": {},
     "output_type": "execute_result"
    }
   ],
   "source": [
    "dfpower.tail()"
   ]
  },
  {
   "cell_type": "markdown",
   "metadata": {},
   "source": [
    "#### Check for non zero 'power' values\n",
    "The head and tail functions both returned 0.0 \"power\" values. We can use the command df.iloc[ ] to view row index values in the middle of the dataset to ensure power has some non zero values. "
   ]
  },
  {
   "cell_type": "code",
   "execution_count": 4,
   "metadata": {},
   "outputs": [
    {
     "data": {
      "text/html": [
       "<div>\n",
       "<style scoped>\n",
       "    .dataframe tbody tr th:only-of-type {\n",
       "        vertical-align: middle;\n",
       "    }\n",
       "\n",
       "    .dataframe tbody tr th {\n",
       "        vertical-align: top;\n",
       "    }\n",
       "\n",
       "    .dataframe thead th {\n",
       "        text-align: right;\n",
       "    }\n",
       "</style>\n",
       "<table border=\"1\" class=\"dataframe\">\n",
       "  <thead>\n",
       "    <tr style=\"text-align: right;\">\n",
       "      <th></th>\n",
       "      <th>speed</th>\n",
       "      <th>power</th>\n",
       "    </tr>\n",
       "  </thead>\n",
       "  <tbody>\n",
       "    <tr>\n",
       "      <th>200</th>\n",
       "      <td>10.185</td>\n",
       "      <td>22.305</td>\n",
       "    </tr>\n",
       "    <tr>\n",
       "      <th>201</th>\n",
       "      <td>10.210</td>\n",
       "      <td>20.704</td>\n",
       "    </tr>\n",
       "    <tr>\n",
       "      <th>202</th>\n",
       "      <td>10.235</td>\n",
       "      <td>30.341</td>\n",
       "    </tr>\n",
       "    <tr>\n",
       "      <th>203</th>\n",
       "      <td>10.260</td>\n",
       "      <td>24.293</td>\n",
       "    </tr>\n",
       "    <tr>\n",
       "      <th>204</th>\n",
       "      <td>10.285</td>\n",
       "      <td>20.636</td>\n",
       "    </tr>\n",
       "  </tbody>\n",
       "</table>\n",
       "</div>"
      ],
      "text/plain": [
       "      speed   power\n",
       "200  10.185  22.305\n",
       "201  10.210  20.704\n",
       "202  10.235  30.341\n",
       "203  10.260  24.293\n",
       "204  10.285  20.636"
      ]
     },
     "execution_count": 4,
     "metadata": {},
     "output_type": "execute_result"
    }
   ],
   "source": [
    "dfpower.iloc[200:205]"
   ]
  },
  {
   "cell_type": "markdown",
   "metadata": {},
   "source": [
    "#### Summary of the dataset\n",
    "df.describe( ) is a very useful function to display important summary statistics about the dataset."
   ]
  },
  {
   "cell_type": "code",
   "execution_count": 5,
   "metadata": {},
   "outputs": [
    {
     "data": {
      "text/html": [
       "<div>\n",
       "<style scoped>\n",
       "    .dataframe tbody tr th:only-of-type {\n",
       "        vertical-align: middle;\n",
       "    }\n",
       "\n",
       "    .dataframe tbody tr th {\n",
       "        vertical-align: top;\n",
       "    }\n",
       "\n",
       "    .dataframe thead th {\n",
       "        text-align: right;\n",
       "    }\n",
       "</style>\n",
       "<table border=\"1\" class=\"dataframe\">\n",
       "  <thead>\n",
       "    <tr style=\"text-align: right;\">\n",
       "      <th></th>\n",
       "      <th>speed</th>\n",
       "      <th>power</th>\n",
       "    </tr>\n",
       "  </thead>\n",
       "  <tbody>\n",
       "    <tr>\n",
       "      <th>count</th>\n",
       "      <td>500.000000</td>\n",
       "      <td>500.000000</td>\n",
       "    </tr>\n",
       "    <tr>\n",
       "      <th>mean</th>\n",
       "      <td>12.590398</td>\n",
       "      <td>48.014584</td>\n",
       "    </tr>\n",
       "    <tr>\n",
       "      <th>std</th>\n",
       "      <td>7.224991</td>\n",
       "      <td>41.614572</td>\n",
       "    </tr>\n",
       "    <tr>\n",
       "      <th>min</th>\n",
       "      <td>0.000000</td>\n",
       "      <td>0.000000</td>\n",
       "    </tr>\n",
       "    <tr>\n",
       "      <th>25%</th>\n",
       "      <td>6.324750</td>\n",
       "      <td>5.288000</td>\n",
       "    </tr>\n",
       "    <tr>\n",
       "      <th>50%</th>\n",
       "      <td>12.550500</td>\n",
       "      <td>41.645500</td>\n",
       "    </tr>\n",
       "    <tr>\n",
       "      <th>75%</th>\n",
       "      <td>18.775250</td>\n",
       "      <td>93.537000</td>\n",
       "    </tr>\n",
       "    <tr>\n",
       "      <th>max</th>\n",
       "      <td>25.000000</td>\n",
       "      <td>113.556000</td>\n",
       "    </tr>\n",
       "  </tbody>\n",
       "</table>\n",
       "</div>"
      ],
      "text/plain": [
       "            speed       power\n",
       "count  500.000000  500.000000\n",
       "mean    12.590398   48.014584\n",
       "std      7.224991   41.614572\n",
       "min      0.000000    0.000000\n",
       "25%      6.324750    5.288000\n",
       "50%     12.550500   41.645500\n",
       "75%     18.775250   93.537000\n",
       "max     25.000000  113.556000"
      ]
     },
     "execution_count": 5,
     "metadata": {},
     "output_type": "execute_result"
    }
   ],
   "source": [
    "dfpower.describe()"
   ]
  },
  {
   "cell_type": "markdown",
   "metadata": {},
   "source": [
    "### Data Visualisation\n",
    "Creating a plot of the data is a good place to start when analysing to recognise if any trends or obvious relationships exist between variables. Here a scatterplot is most effective."
   ]
  },
  {
   "cell_type": "code",
   "execution_count": 6,
   "metadata": {},
   "outputs": [
    {
     "data": {
      "image/png": "[encoded data removed]",
      "text/plain": [
       "<Figure size 864x576 with 1 Axes>"
      ]
     },
     "metadata": {
      "needs_background": "light"
     },
     "output_type": "display_data"
    }
   ],
   "source": [
    "plt.figure(figsize=(12,8))\n",
    "sns.scatterplot(data=dfpower, x='speed', y='power')\n",
    "plt.xlabel('speed (m/s)')\n",
    "plt.ylabel('power output (kW)')\n",
    "plt.title(\"Wind speed vs Power output\")\n",
    "plt.show();"
   ]
  },
  {
   "cell_type": "markdown",
   "metadata": {},
   "source": [
    "### Linear Regression\n",
    "Linear regression is the method of fitting a linear equation to the relationship between two variables in observed data. One variable is considered to be an explanatory variable otherwise known as an independent variable, and the other is considered to be a dependent variable. Simple linear regression is the case where only one explanatory variable exists i.e. one independent variable and one dependent variable. A common example is relating height and weight of individuals. A linear regression line can be written mathematically as the equation $y = mx + c$, where $x$ is the independent variable and $y$ is the dependent variable. The slope of the line is $m$, which is how much $y$ increases by when $x$ is increased by 1.0. $c$ is the intercept (the value of $y$ when $x = 0$). [1]\n",
    "\n",
    "#### Fitting a line to  \"powerproduction\" dataset\n",
    "From the scatter plot above it is apparent that a line of best fit would be reasonable suitable for at least the middle third of the plot however the left and right thirds of the plot appear to be more curved. \n",
    "\n",
    "### Use Numpy to calculate the coefficients of the line (m and c)\n",
    "First convert the dataframe columns to numpy arrays using the pandas .to_numpy() function. "
   ]
  },
  {
   "cell_type": "code",
   "execution_count": 7,
   "metadata": {},
   "outputs": [
    {
     "name": "stdout",
     "output_type": "stream",
     "text": [
      "<class 'numpy.ndarray'>\n",
      "<class 'numpy.ndarray'>\n"
     ]
    }
   ],
   "source": [
    "# Pandas function .to_numpy to create numpy array for each column\n",
    "speed = dfpower['speed'].to_numpy()\n",
    "power = dfpower['power'].to_numpy()\n",
    "print(type(speed))\n",
    "print(type(power))"
   ]
  },
  {
   "cell_type": "markdown",
   "metadata": {},
   "source": [
    "#### Coefficients \"m\" & \"c\""
   ]
  },
  {
   "cell_type": "code",
   "execution_count": 8,
   "metadata": {},
   "outputs": [
    {
     "name": "stdout",
     "output_type": "stream",
     "text": [
      "m(slope): 4.918    c(intercept): -13.900\n"
     ]
    }
   ],
   "source": [
    "# use numpy.polyfit to get the coefficients of the line of best fit\n",
    "m = np.polyfit(speed, power, 1)[0]\n",
    "c = np.polyfit(speed, power, 1)[1]\n",
    "print(f'm(slope): {m:.3f}    c(intercept): {c:.3f}')"
   ]
  },
  {
   "cell_type": "markdown",
   "metadata": {},
   "source": [
    "#### Plotting best fit line\n",
    "Plot the best fit line on top of the original data"
   ]
  },
  {
   "cell_type": "code",
   "execution_count": 9,
   "metadata": {},
   "outputs": [
    {
     "data": {
      "image/png": "[encoded data removed]",
      "text/plain": [
       "<Figure size 864x576 with 1 Axes>"
      ]
     },
     "metadata": {
      "needs_background": "light"
     },
     "output_type": "display_data"
    }
   ],
   "source": [
    "# Plot the best fit line.\n",
    "plt.figure(figsize=(12,8))\n",
    "plt.plot(speed, power, '.b', label='Original data')\n",
    "plt.plot(speed, m * speed + c, 'r-', label='Fitted line')\n",
    "\n",
    "# Add axis labels and a legend.\n",
    "plt.xlabel('speed (m/s)')\n",
    "plt.ylabel('power (kW)')\n",
    "plt.legend()\n",
    "\n",
    "# Show the plot.\n",
    "plt.show();"
   ]
  },
  {
   "cell_type": "markdown",
   "metadata": {},
   "source": [
    "#### Calculating Pearson's r value and R-squared value using Numpy\n",
    "**Pearson's correlation coefficient (r)** is a statistic that measures linear correlation between two variables. Denoted a value between -1 and +1, A value of +1 is a total positive linear correlation; 0 being no linear correlation; and -1 being a total negative correlation.[2]  \n",
    "**R-squared** is the proportion of the variance in the dependent variable that is predictable from the independent variable.[3]"
   ]
  },
  {
   "cell_type": "code",
   "execution_count": 10,
   "metadata": {},
   "outputs": [
    {
     "name": "stdout",
     "output_type": "stream",
     "text": [
      "Pearson's correlation coefficient (r):  0.85\n",
      "R-squared value:                        0.73\n"
     ]
    }
   ],
   "source": [
    "# calculate both pearson's \"r\" and R-squared using Numpy\n",
    "print(f'Pearson\\'s correlation coefficient (r): {np.corrcoef(speed, power)[0,1]:5.2f}')\n",
    "print(f'R-squared value: {np.corrcoef(speed, power)[0,1]**2:27.2f}')"
   ]
  },
  {
   "cell_type": "markdown",
   "metadata": {},
   "source": [
    "### Use Scikit-Learn to perform the same Linear Regression [4]\n",
    "From the official Scikit-Learn website [sklearn.linear_model.LinearRegression](https://scikit-learn.org/stable/modules/generated/sklearn.linear_model.LinearRegression.html) \"LinearRegression fits a linear model with coefficients w = (w1, …, wp) to minimize the residual sum of squares between the observed targets in the dataset, and the targets predicted by the linear approximation.\" It does essentially the exact same thing just slightly different. Coefficients are calculated by minimizing the least square error method. LSE is the most common cost function for fitting linear models. It is calculated as the sum of squared differences between the predicted (best fit line) and the actual values. Both Numpy.polyfit and sklearn use [linalg.lstsq](https://numpy.org/doc/stable/reference/generated/numpy.linalg.lstsq.html) to solve for the coefficients.[5]\n",
    "#### Define the Variables\n",
    "First the X and y variables are defined."
   ]
  },
  {
   "cell_type": "code",
   "execution_count": 11,
   "metadata": {},
   "outputs": [],
   "source": [
    "# create the variables. X must be a 2d array and y must be a 1d array\n",
    "X = speed.reshape(-1,1)\n",
    "y = power"
   ]
  },
  {
   "cell_type": "markdown",
   "metadata": {},
   "source": [
    "#### Split the Data \n",
    "The data is split into \"Train\" and \"Test\" sets with Scikit Learn train_test_split(). For this exercise the train set will be 80% of the data and the test set will be 20%. This is done by passing the ```test_size=0.20``` argument into the function"
   ]
  },
  {
   "cell_type": "code",
   "execution_count": 12,
   "metadata": {},
   "outputs": [],
   "source": [
    "# split the data into training and test sets using sklear test_train_split function\n",
    "from sklearn.model_selection import train_test_split\n",
    "X_train, X_test, y_train, y_test = train_test_split(X, y, test_size=0.20, random_state=100)"
   ]
  },
  {
   "cell_type": "markdown",
   "metadata": {},
   "source": [
    "#### Train the Algorithm\n",
    "Using the split data the algorithm can now be trained. The Scikit-Learn package makes it very straight forward to implement linear regression models, as seen below there isn't much code involved. The ```fit()``` function is called from ```LinearRegression()```."
   ]
  },
  {
   "cell_type": "code",
   "execution_count": 13,
   "metadata": {},
   "outputs": [
    {
     "data": {
      "text/plain": [
       "LinearRegression()"
      ]
     },
     "execution_count": 13,
     "metadata": {},
     "output_type": "execute_result"
    }
   ],
   "source": [
    "# import LinearRegression class from sklearn\n",
    "from sklearn.linear_model import LinearRegression\n",
    "reg = LinearRegression()\n",
    "\n",
    "# call the fit function\n",
    "reg.fit(X_train, y_train)"
   ]
  },
  {
   "cell_type": "markdown",
   "metadata": {},
   "source": [
    "#### Coefficients for \"m\" & \"c\""
   ]
  },
  {
   "cell_type": "code",
   "execution_count": 14,
   "metadata": {},
   "outputs": [
    {
     "name": "stdout",
     "output_type": "stream",
     "text": [
      "m(slope): 4.855    c(intercept): -13.281\n"
     ]
    }
   ],
   "source": [
    "print(f'm(slope): {reg.coef_[0]:.3f}    c(intercept): {reg.intercept_:.3f}')"
   ]
  },
  {
   "cell_type": "markdown",
   "metadata": {},
   "source": [
    "#### R-Squared and Pearson's correlation coefficient\n",
    "As before the R-squared value estimates how much of the changes in the $y$ value is due to the changes in the $x$ value compared to all of the other factors affecting the $y$ value. [Simple Linear Regression Notebook](https://github.com/ianmcloughlin/jupyter-teaching-notebooks/blob/master/simple-linear-regression.ipynb). This value is returned by the ```score(X, y)``` function.  \n",
    "Pearson correlation coefficient is the square root of R-squared. "
   ]
  },
  {
   "cell_type": "code",
   "execution_count": 15,
   "metadata": {},
   "outputs": [
    {
     "name": "stdout",
     "output_type": "stream",
     "text": [
      "Pearson's correlation coefficient (r): 0.85\n",
      "R-squared value:                       0.73\n"
     ]
    }
   ],
   "source": [
    "# Pearson's r is the sqrt of R-Squared which sklearn returns as score()\n",
    "r_square = reg.score(X,y)\n",
    "# Align the values using formatting (spacing)\n",
    "print(f'Pearson\\'s correlation coefficient (r): {np.sqrt(r_square):.2f}')\n",
    "print(f'R-squared value: {r_square:26.2f}')"
   ]
  },
  {
   "cell_type": "markdown",
   "metadata": {},
   "source": [
    "#### Predicting \"y\" values\n",
    "Now that the algorithm has been trained and the coefficients etc. are calculated, $y$ values can be predicted. To do this, the test data will be used to see how accurately our algorithm predicts values for power output when given the wind speed."
   ]
  },
  {
   "cell_type": "code",
   "execution_count": 16,
   "metadata": {},
   "outputs": [],
   "source": [
    "# use predict() function with X_test set\n",
    "y_pred = reg.predict(X_test)"
   ]
  },
  {
   "cell_type": "markdown",
   "metadata": {},
   "source": [
    "#### Comparing the Data\n",
    "In order to compare the predicted vs the actual data a new dataframe can be created."
   ]
  },
  {
   "cell_type": "code",
   "execution_count": 17,
   "metadata": {},
   "outputs": [],
   "source": [
    "# Create a new data frame of actual vs predicted values to compare\n",
    "dfcomp = pd.DataFrame({'Speed': X_test.flatten(), 'PowerActual': y_test, 'PowerPredicted': y_pred})"
   ]
  },
  {
   "cell_type": "markdown",
   "metadata": {},
   "source": [
    "The model is not really that precise as can be seen from the above dataframe. However a straight line is not the best fit for this dataset so these limitations are apparent.\n",
    "\n",
    "#### Plotting best fit line\n",
    "Plot the best fit line on top of the original data, include the Numpy.polyfit best line also for comparison."
   ]
  },
  {
   "cell_type": "code",
   "execution_count": 18,
   "metadata": {},
   "outputs": [
    {
     "data": {
      "image/png": "[encoded data removed]",
      "text/plain": [
       "<Figure size 864x576 with 1 Axes>"
      ]
     },
     "metadata": {
      "needs_background": "light"
     },
     "output_type": "display_data"
    }
   ],
   "source": [
    "# Plot the original data vs sklearn best fit line.\n",
    "plt.figure(figsize=(12,8))\n",
    "plt.plot(speed, power, '.b', label='Original data')\n",
    "plt.plot(X_test, y_pred, 'r-', label='Fitted line')\n",
    "# Numpy best line\n",
    "plt.plot(speed, m * speed + c, 'y-', label='Fitted line NP')\n",
    "\n",
    "# Add axis labels and a legend.\n",
    "plt.xlabel('speed (m/s)')\n",
    "plt.ylabel('power (kW)')\n",
    "plt.legend()\n",
    "\n",
    "# Show the plot.\n",
    "plt.show();"
   ]
  },
  {
   "attachments": {
    "formula-MAE-MSE-RMSE-RSquared.JPG": {
     "image/jpeg": "[encoded data removed]"
    }
   },
   "cell_type": "markdown",
   "metadata": {},
   "source": [
    "#### Evaluate the Accuracy of the Algorithm\n",
    "The MAE, MSE & RMSE are used to evaluate the prediction error rates and model performance in regression analysis.  \n",
    "**MAE - Mean Absolute Error** - Measures the average difference between the original and predicted values over the data set <br />\n",
    "**MSE - Mean Squared Error** - Measures the average squared difference between the estimated values and the actual value. <br />\n",
    "**RMSE - Root Mean Squared Error** - Is the square root of the average of squared errors. <br />\n",
    "The formula for each is given below.\n",
    "![formula-MAE-MSE-RMSE-RSquared.JPG](attachment:formula-MAE-MSE-RMSE-RSquared.JPG)"
   ]
  },
  {
   "cell_type": "code",
   "execution_count": 19,
   "metadata": {},
   "outputs": [
    {
     "name": "stdout",
     "output_type": "stream",
     "text": [
      "Mean Absolute Error:      13.5093\n",
      "Mean Squared Error:       322.8440\n",
      "Root Mean Squared Error:  17.9679\n"
     ]
    }
   ],
   "source": [
    "# print the 3 common evaluation metrics. MAE, MSE, RMSE\n",
    "from sklearn import metrics\n",
    "# Align the numbers using formatting\n",
    "print(f'Mean Absolute Error: {metrics.mean_absolute_error(y_test, y_pred): 12.4f}')\n",
    "print(f'Mean Squared Error: {metrics.mean_squared_error(y_test, y_pred): 14.4f}')\n",
    "print(f'Root Mean Squared Error: {np.sqrt(metrics.mean_squared_error(y_test, y_pred)): .4f}')"
   ]
  },
  {
   "cell_type": "code",
   "execution_count": null,
   "metadata": {},
   "outputs": [],
   "source": []
  },
  {
   "cell_type": "code",
   "execution_count": null,
   "metadata": {},
   "outputs": [],
   "source": []
  },
  {
   "cell_type": "code",
   "execution_count": null,
   "metadata": {},
   "outputs": [],
   "source": []
  },
  {
   "cell_type": "markdown",
   "metadata": {},
   "source": [
    "### References\n",
    "[1] Linear Regression; [Stat.yale.edu](http://www.stat.yale.edu/Courses/1997-98/101/linreg.htm#:~:text=Linear%20regression%20attempts%20to%20model,linear%20equation%20to%20observed%20data.&text=A%20linear%20regression%20line%20has,Y%20is%20the%20dependent%20variable.)<br />\n",
    "[2] Pearson correlation coefficient; [Wikipedia.org](https://en.wikipedia.org/wiki/Pearson_correlation_coefficient)<br />\n",
    "[3] Coefficient of determination (R-squared); [Wikipedia.org](https://en.wikipedia.org/wiki/Coefficient_of_determination)<br />\n",
    "[4] Linear Regression in Python with Scikit-Learn; [Stackabuse.com](https://stackabuse.com/linear-regression-in-python-with-scikit-learn/)<br />\n",
    "[5] Two Ways to Perform Linear Regression in Python with Numpy and Scikit-Learn; [Codefying.com](https://codefying.com/2016/08/18/two-ways-to-perform-linear-regression-in-python-with-numpy-ans-sk-learn/)<br />\n",
    "[6] Regression Model Accuracy (MAE, MSE, RMSE, R-squared); [Datatechnotes.com](https://www.datatechnotes.com/2019/02/regression-model-accuracy-mae-mse-rmse.html#:~:text=The%20MSE%2C%20MAE%2C%20RMSE%2C,difference%20over%20the%20data%20set.)\n",
    "\n",
    "\n",
    "Links\n",
    "https://towardsdatascience.com/basic-curve-fitting-of-scientific-data-with-python-9592244a2509  \n",
    "https://stackabuse.com/linear-regression-in-python-with-scikit-learn/  \n",
    "https://stackabuse.com/linear-regression-in-python-with-scikit-learn/"
   ]
  },
  {
   "cell_type": "code",
   "execution_count": null,
   "metadata": {},
   "outputs": [],
   "source": []
  }
 ],
 "metadata": {
  "kernelspec": {
   "display_name": "Python 3",
   "language": "python",
   "name": "python3"
  },
  "language_info": {
   "codemirror_mode": {
    "name": "ipython",
    "version": 3
   },
   "file_extension": ".py",
   "mimetype": "text/x-python",
   "name": "python",
   "nbconvert_exporter": "python",
   "pygments_lexer": "ipython3",
   "version": "3.8.5"
  }
 },
 "nbformat": 4,
 "nbformat_minor": 4
}
